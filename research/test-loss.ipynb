{
 "cells": [
  {
   "cell_type": "code",
   "execution_count": 1,
   "metadata": {},
   "outputs": [
    {
     "name": "stdout",
     "output_type": "stream",
     "text": [
      "Downloading http://yann.lecun.com/exdb/mnist/train-images-idx3-ubyte.gz\n",
      "Downloading http://yann.lecun.com/exdb/mnist/train-images-idx3-ubyte.gz to /Users/ngocp/Documents/projects/pyml/viblo-classify/research/MNIST/raw/train-images-idx3-ubyte.gz\n"
     ]
    },
    {
     "name": "stderr",
     "output_type": "stream",
     "text": [
      "100%|██████████| 9912422/9912422 [00:01<00:00, 9760603.72it/s] \n"
     ]
    },
    {
     "name": "stdout",
     "output_type": "stream",
     "text": [
      "Extracting /Users/ngocp/Documents/projects/pyml/viblo-classify/research/MNIST/raw/train-images-idx3-ubyte.gz to /Users/ngocp/Documents/projects/pyml/viblo-classify/research/MNIST/raw\n",
      "\n",
      "Downloading http://yann.lecun.com/exdb/mnist/train-labels-idx1-ubyte.gz\n",
      "Downloading http://yann.lecun.com/exdb/mnist/train-labels-idx1-ubyte.gz to /Users/ngocp/Documents/projects/pyml/viblo-classify/research/MNIST/raw/train-labels-idx1-ubyte.gz\n"
     ]
    },
    {
     "name": "stderr",
     "output_type": "stream",
     "text": [
      "100%|██████████| 28881/28881 [00:00<00:00, 47207986.68it/s]"
     ]
    },
    {
     "name": "stdout",
     "output_type": "stream",
     "text": [
      "Extracting /Users/ngocp/Documents/projects/pyml/viblo-classify/research/MNIST/raw/train-labels-idx1-ubyte.gz to /Users/ngocp/Documents/projects/pyml/viblo-classify/research/MNIST/raw\n",
      "\n",
      "Downloading http://yann.lecun.com/exdb/mnist/t10k-images-idx3-ubyte.gz\n"
     ]
    },
    {
     "name": "stderr",
     "output_type": "stream",
     "text": [
      "\n"
     ]
    },
    {
     "name": "stdout",
     "output_type": "stream",
     "text": [
      "Downloading http://yann.lecun.com/exdb/mnist/t10k-images-idx3-ubyte.gz to /Users/ngocp/Documents/projects/pyml/viblo-classify/research/MNIST/raw/t10k-images-idx3-ubyte.gz\n"
     ]
    },
    {
     "name": "stderr",
     "output_type": "stream",
     "text": [
      "100%|██████████| 1648877/1648877 [00:00<00:00, 8408347.93it/s]\n"
     ]
    },
    {
     "name": "stdout",
     "output_type": "stream",
     "text": [
      "Extracting /Users/ngocp/Documents/projects/pyml/viblo-classify/research/MNIST/raw/t10k-images-idx3-ubyte.gz to /Users/ngocp/Documents/projects/pyml/viblo-classify/research/MNIST/raw\n",
      "\n",
      "Downloading http://yann.lecun.com/exdb/mnist/t10k-labels-idx1-ubyte.gz\n",
      "Downloading http://yann.lecun.com/exdb/mnist/t10k-labels-idx1-ubyte.gz to /Users/ngocp/Documents/projects/pyml/viblo-classify/research/MNIST/raw/t10k-labels-idx1-ubyte.gz\n"
     ]
    },
    {
     "name": "stderr",
     "output_type": "stream",
     "text": [
      "100%|██████████| 4542/4542 [00:00<00:00, 8585186.47it/s]"
     ]
    },
    {
     "name": "stdout",
     "output_type": "stream",
     "text": [
      "Extracting /Users/ngocp/Documents/projects/pyml/viblo-classify/research/MNIST/raw/t10k-labels-idx1-ubyte.gz to /Users/ngocp/Documents/projects/pyml/viblo-classify/research/MNIST/raw\n",
      "\n",
      "Starting epoch 1\n"
     ]
    },
    {
     "name": "stderr",
     "output_type": "stream",
     "text": [
      "\n"
     ]
    },
    {
     "name": "stdout",
     "output_type": "stream",
     "text": [
      "Loss after mini-batch   500: 1.987\n",
      "Loss after mini-batch  1000: 1.118\n",
      "Loss after mini-batch  1500: 0.699\n",
      "Loss after mini-batch  2000: 0.561\n",
      "Loss after mini-batch  2500: 0.490\n",
      "Loss after mini-batch  3000: 0.451\n",
      "Loss after mini-batch  3500: 0.420\n",
      "Loss after mini-batch  4000: 0.409\n",
      "Loss after mini-batch  4500: 0.402\n",
      "Loss after mini-batch  5000: 0.374\n",
      "Loss after mini-batch  5500: 0.368\n",
      "Loss after mini-batch  6000: 0.340\n",
      "Starting epoch 2\n",
      "Loss after mini-batch   500: 0.315\n",
      "Loss after mini-batch  1000: 0.337\n",
      "Loss after mini-batch  1500: 0.316\n",
      "Loss after mini-batch  2000: 0.312\n",
      "Loss after mini-batch  2500: 0.290\n",
      "Loss after mini-batch  3000: 0.322\n",
      "Loss after mini-batch  3500: 0.288\n",
      "Loss after mini-batch  4000: 0.293\n",
      "Loss after mini-batch  4500: 0.294\n",
      "Loss after mini-batch  5000: 0.291\n",
      "Loss after mini-batch  5500: 0.294\n",
      "Loss after mini-batch  6000: 0.270\n",
      "Starting epoch 3\n",
      "Loss after mini-batch   500: 0.265\n",
      "Loss after mini-batch  1000: 0.287\n",
      "Loss after mini-batch  1500: 0.255\n",
      "Loss after mini-batch  2000: 0.266\n",
      "Loss after mini-batch  2500: 0.254\n",
      "Loss after mini-batch  3000: 0.255\n",
      "Loss after mini-batch  3500: 0.262\n",
      "Loss after mini-batch  4000: 0.245\n",
      "Loss after mini-batch  4500: 0.249\n",
      "Loss after mini-batch  5000: 0.242\n",
      "Loss after mini-batch  5500: 0.242\n",
      "Loss after mini-batch  6000: 0.239\n",
      "Starting epoch 4\n",
      "Loss after mini-batch   500: 0.232\n",
      "Loss after mini-batch  1000: 0.247\n",
      "Loss after mini-batch  1500: 0.233\n",
      "Loss after mini-batch  2000: 0.228\n",
      "Loss after mini-batch  2500: 0.205\n",
      "Loss after mini-batch  3000: 0.220\n",
      "Loss after mini-batch  3500: 0.232\n",
      "Loss after mini-batch  4000: 0.210\n",
      "Loss after mini-batch  4500: 0.217\n",
      "Loss after mini-batch  5000: 0.202\n",
      "Loss after mini-batch  5500: 0.228\n",
      "Loss after mini-batch  6000: 0.218\n",
      "Starting epoch 5\n",
      "Loss after mini-batch   500: 0.200\n",
      "Loss after mini-batch  1000: 0.206\n",
      "Loss after mini-batch  1500: 0.210\n",
      "Loss after mini-batch  2000: 0.193\n",
      "Loss after mini-batch  2500: 0.196\n",
      "Loss after mini-batch  3000: 0.208\n",
      "Loss after mini-batch  3500: 0.205\n",
      "Loss after mini-batch  4000: 0.184\n",
      "Loss after mini-batch  4500: 0.179\n",
      "Loss after mini-batch  5000: 0.184\n",
      "Loss after mini-batch  5500: 0.190\n",
      "Loss after mini-batch  6000: 0.193\n",
      "Training process has finished.\n"
     ]
    }
   ],
   "source": [
    "import os\n",
    "import torch\n",
    "from torch import nn\n",
    "from torchvision.datasets import MNIST\n",
    "from torch.utils.data import DataLoader\n",
    "from torchvision import transforms\n",
    "\n",
    "class MLP(nn.Module):\n",
    "  '''\n",
    "    Multilayer Perceptron.\n",
    "  '''\n",
    "  def __init__(self):\n",
    "    super().__init__()\n",
    "    self.layers = nn.Sequential(\n",
    "      nn.Flatten(),\n",
    "      nn.Linear(28 * 28 * 1, 64),\n",
    "      nn.ReLU(),\n",
    "      nn.Linear(64, 32),\n",
    "      nn.ReLU(),\n",
    "      nn.Linear(32, 10),\n",
    "      nn.LogSoftmax(dim = 1)\n",
    "    )\n",
    "\n",
    "\n",
    "  def forward(self, x):\n",
    "    '''Forward pass'''\n",
    "    return self.layers(x)\n",
    "  \n",
    "  \n",
    "if __name__ == '__main__':\n",
    "  \n",
    "  # Set fixed random number seed\n",
    "  torch.manual_seed(42)\n",
    "  \n",
    "  # Prepare MNIST dataset\n",
    "  dataset = MNIST(os.getcwd(), download=True, transform=transforms.ToTensor())\n",
    "  trainloader = torch.utils.data.DataLoader(dataset, batch_size=10, shuffle=True, num_workers=1)\n",
    "  \n",
    "  # Initialize the MLP\n",
    "  mlp = MLP()\n",
    "  \n",
    "  # Define the loss function and optimizer\n",
    "  loss_function = nn.NLLLoss()\n",
    "  optimizer = torch.optim.Adam(mlp.parameters(), lr=1e-4)\n",
    "  \n",
    "  # Run the training loop\n",
    "  for epoch in range(0, 5): # 5 epochs at maximum\n",
    "    \n",
    "    # Print epoch\n",
    "    print(f'Starting epoch {epoch+1}')\n",
    "    \n",
    "    # Set current loss value\n",
    "    current_loss = 0.0\n",
    "    \n",
    "    # Iterate over the DataLoader for training data\n",
    "    for i, data in enumerate(trainloader, 0):\n",
    "      \n",
    "      # Get inputs\n",
    "      inputs, targets = data\n",
    "      \n",
    "      # Zero the gradients\n",
    "      optimizer.zero_grad()\n",
    "      \n",
    "      # Perform forward pass\n",
    "      outputs = mlp(inputs)\n",
    "      \n",
    "      # Compute loss\n",
    "      loss = loss_function(outputs, targets)\n",
    "      \n",
    "      # Perform backward pass\n",
    "      loss.backward()\n",
    "      \n",
    "      # Perform optimization\n",
    "      optimizer.step()\n",
    "      \n",
    "      # Print statistics\n",
    "      current_loss += loss.item()\n",
    "      if i % 500 == 499:\n",
    "          print('Loss after mini-batch %5d: %.3f' %\n",
    "                (i + 1, current_loss / 500))\n",
    "          current_loss = 0.0\n",
    "\n",
    "  # Process is complete.\n",
    "  print('Training process has finished.')"
   ]
  }
 ],
 "metadata": {
  "kernelspec": {
   "display_name": "Python 3",
   "language": "python",
   "name": "python3"
  },
  "language_info": {
   "codemirror_mode": {
    "name": "ipython",
    "version": 3
   },
   "file_extension": ".py",
   "mimetype": "text/x-python",
   "name": "python",
   "nbconvert_exporter": "python",
   "pygments_lexer": "ipython3",
   "version": "3.10.3"
  },
  "orig_nbformat": 4
 },
 "nbformat": 4,
 "nbformat_minor": 2
}
